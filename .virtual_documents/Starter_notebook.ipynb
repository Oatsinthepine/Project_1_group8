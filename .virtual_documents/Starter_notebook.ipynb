





#import all required dependencies for this EDA project:

import pandas as pd
import numpy as np
import scipy.stats as st
import matplotlib.pyplot as plt
from pathlib import Path
import warnings
warnings.filterwarnings('ignore')



# accessing the stored csv file path and read the data:
file_path_1 = Path("data/LoanDataset - LoansDatasest.csv") #this is the larger csv file.
file_path_2 = Path("data/debt_impact_data (2).csv") # this is the smaller csv file.

#reading the csv file:
loan_df = pd.read_csv(file_path_1)
impact_df = pd.read_csv(file_path_2)


# checking:
loan_df.head() #notice this is from UK for the pounds


impact_df.head() # this is from US.


loan_df.describe() # we can see some columns dtypes need to be changed.


loan_df.info #checking 


loan_df.dtypes # need to change dtypes later.


#check all the NaN 
loan_df.isna().sum() # need to drop NA later.


# check for duplication:
loan_df.loc[loan_df.duplicated()] # need to get rid of duplicated roles.


loan_df_test = loan_df.copy() #here making a copy of the original df.
loan_df_test = loan_df_test.drop_duplicates() # drop the duplicates on the copied df.


loan_df_test.columns 


#tidy up the loan_df_test and reframe the df only contains the wanted columns:
tidy_loan_df = loan_df_test[['customer_age', 'customer_income', 'home_ownership',
       'employment_duration', 'loan_intent', 'loan_grade', 'loan_amnt',
       'loan_int_rate', 'term_years']]
tidy_loan_df


# same here make the copy of tidy loan df and drop NA.
test_copy = tidy_loan_df.copy()
test_copy = test_copy.dropna()


test_copy.shape


test_copy = test_copy.reset_index(drop=True).copy() #reseting the index to make it more readable.
test_copy


# convert dtypes:

test_copy['customer_income'] = test_copy['customer_income'].astype(str)
test_copy['customer_income'] = test_copy['customer_income'].str.strip()
test_copy['customer_income'] = test_copy['customer_income'].str.replace(',', '', regex=False)
test_copy['customer_income'] = pd.to_numeric(test_copy['customer_income'])

test_copy = test_copy.rename(columns={'loan_amnt':'loan_amnt(pounds)'})
test_copy['loan_amnt(pounds)'] = test_copy['loan_amnt(pounds)'].astype(str)
test_copy['loan_amnt(pounds)'] = test_copy['loan_amnt(pounds)'].str.strip()
test_copy['loan_amnt(pounds)'] = test_copy['loan_amnt(pounds)'].str.replace('£', '', regex=False)
test_copy['loan_amnt(pounds)'] = test_copy['loan_amnt(pounds)'].str.replace(',', '', regex=False)
test_copy['loan_amnt(pounds)'] = pd.to_numeric(test_copy['loan_amnt(pounds)'])
cleaned_loan_df = test_copy

cleaned_loan_df # this is the variable completed cleasing of the loan data, use this variable for all questions below.




















ax = cleaned_loan_df['loan_amnt(pounds)'].value_counts().head(10).plot(kind = 'bar', \
                                                                  title = 'Top 10 loan amount borrowed counts', \
                                                                      color = 'r', alpha = 0.5, align = 'center')

ax.set_xlabel('loan amount in pounds')
ax.set_ylabel('Count')


# Define the bins
bins = [0, 20000, 40000, 60000, 80000, 100000, 120000, 140000]
labels = ['0-20k', '20k-40k', '40k-60k', '60k-80k', '80k-100k', '100k-120k', '>120k']

# Bin the customer_income data
cleaned_loan_df['income_bin'] = pd.cut(cleaned_loan_df['customer_income'], bins=bins, labels=labels)

# Calculate the mean loan amount for each income bin
bin_means = cleaned_loan_df.groupby('income_bin')['loan_amnt(pounds)'].mean().reset_index()

# Plot the binned data
plt.figure(figsize=(10, 6))
plt.plot(bin_means['income_bin'], bin_means['loan_amnt(pounds)'])
plt.title('Binned Customer Income vs. Mean Loan Amount')
plt.xlabel('Income Bin')
plt.ylabel('Mean Loan Amount (pounds)')
plt.grid()
plt.show()


q1 = cleaned_loan_df[['customer_income', 'loan_amnt(pounds)']].quantile(0.25)
q3 = cleaned_loan_df[['customer_income', 'loan_amnt(pounds)']].quantile(0.75)
iqr = q3 - q1
iqr


q1_income = cleaned_loan_df[['customer_income']].quantile(0.25)
q3_income = cleaned_loan_df[['customer_income']].quantile(0.75)
q1_loan = cleaned_loan_df[['loan_amnt(pounds)']].quantile(0.25)
q3_loan = cleaned_loan_df[['loan_amnt(pounds)']].quantile(0.75)
iqr_income = q3_income - q1_income
iqr_loan = q3_loan - q1_loan
print(f'The customer income q1 is {q1_income}, q3 is {q3_income}.')
print(f'The loan amount q1 is {q1_loan}, q3 is {q3_loan}.')
lower_bound_income = q1_income - 1.5*iqr_income
upper_bound_income = q3_income + 1.5*iqr_income
lower_bound_loan = q1_loan - 1.5*iqr_loan
upper_bound_loan = q3_loan + 1.5*iqr_loan

print(f"the lower bound of customer income is {lower_bound_income}, the upper bound of customer income is {upper_bound_income}.")
print(f"the lower bound of loan amount is {lower_bound_loan}, the upper bound of loan amount is {upper_bound_loan}.")





outliers = (cleaned_loan_df[['customer_income', 'loan_amnt(pounds)']] < (q1 - 1.5 * iqr)) | (cleaned_loan_df[['customer_income', 'loan_amnt(pounds)']] > (q3 + 1.5 * iqr))
non_outliers = ~outliers.any(axis=1)
cleaned_df = cleaned_loan_df[non_outliers]
cleaned_df


# Create income bins
bins = [0, 20000, 40000, 60000, 80000, 100000, 120000]
labels = ['<20k', '20k-40k', '40k-60k', '60k-80k', '80k-100K','>100k']
cleaned_df['income_bin'] = pd.cut(cleaned_df['customer_income'], bins=bins, labels=labels)

plt.figure(figsize=(20, 14))
cleaned_df.boxplot(column='loan_amnt(pounds)', by='income_bin', showmeans=True)
plt.title('Loan Amount by Income Group')
plt.xlabel('Income Group')
plt.ylabel('Loan Amount (pounds)')
plt.show()


plt.scatter(cleaned_df['customer_income'], cleaned_df['loan_amnt(pounds)'], facecolors='blue', alpha = 0.5, edgecolors='black', linewidth=0.5)

# Adding labels and title
plt.xlabel('Customer Income')
plt.ylabel('Loan Amount (Pounds)')
plt.title('Distribution of customer income and the loan they borrowed.')
plt.show()


# Calculate Pearson correlation
pearson_corr, pearson_p_value = st.pearsonr(cleaned_df['customer_income'], cleaned_df['loan_amnt(pounds)'])
print(f"Pearson Correlation: {pearson_corr}, p-value: {pearson_p_value}")





















